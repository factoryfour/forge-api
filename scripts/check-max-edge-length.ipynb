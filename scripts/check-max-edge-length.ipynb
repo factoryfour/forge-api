{
 "cells": [
  {
   "cell_type": "markdown",
   "metadata": {},
   "source": [
    "**Imports and functions**"
   ]
  },
  {
   "cell_type": "code",
   "execution_count": 1,
   "metadata": {
    "collapsed": false
   },
   "outputs": [],
   "source": [
    "import itertools\n",
    "import numpy as np\n",
    "from math import sqrt\n",
    "from matplotlib import pyplot as plt\n",
    "\n",
    "def read_obj(filename):\n",
    "    # 2D array of points, index = point_number(from face)-1\n",
    "    points = []\n",
    "    # Dictionary of point number: list of neighbor numbers\n",
    "    faces = []\n",
    "    fhandle = open(filename, 'r')\n",
    "    blankLineCount = 0\n",
    "    for line in fhandle:\n",
    "        line = line.strip().split()\n",
    "        try:\n",
    "            if line[0] == 'v':\n",
    "                points.append([float(line[1]), float(line[2]), float(line[3])])\n",
    "            elif line[0] == 'f':\n",
    "                faces.append([int(line[i]) for i in range(1,4)])\n",
    "        except:\n",
    "            blankLineCount += 1\n",
    "    fhandle.close()\n",
    "    points = np.asarray(points)\n",
    "    faces = np.asarray(faces)\n",
    "    return points, faces\n",
    "\n",
    "def calc_dist(a, b):\n",
    "    '''\n",
    "    Get the distance between 2 points, a and b\n",
    "    '''\n",
    "    return sqrt((b[0]-a[0])**2 + (b[1]-a[1])**2 + (b[2]-a[2])**2)"
   ]
  },
  {
   "cell_type": "code",
   "execution_count": 2,
   "metadata": {
    "collapsed": false
   },
   "outputs": [],
   "source": [
    "def edge_statistics(points, faces):\n",
    "    edge_lengths = []\n",
    "    max_dist = 0\n",
    "    max_points = ()\n",
    "    \n",
    "    print len(points), 'points'\n",
    "    print len(faces), 'faces'\n",
    "\n",
    "    for face in faces:\n",
    "        point_combs = itertools.combinations(range(0,3), 2)\n",
    "        for pc in point_combs:\n",
    "            d = calc_dist(points[face[pc[0]]-1], points[face[pc[1]]-1])\n",
    "            edge_lengths.append(d)\n",
    "            if d > max_dist:\n",
    "                max_dist = d\n",
    "                max_points = (points[face[pc[0]]-1], points[face[pc[1]]-1])\n",
    "    print len(edge_lengths), 'edges'\n",
    "    edge_hist, edge_bins = np.histogram(edge_lengths)\n",
    "    stats = {'max': max_dist,\n",
    "             'max_points': np.asarray(max_points),\n",
    "             'avg': np.mean(edge_lengths),\n",
    "             'std': np.std(edge_lengths),\n",
    "             'hist': (edge_bins, edge_hist)}\n",
    "    return stats"
   ]
  },
  {
   "cell_type": "markdown",
   "metadata": {},
   "source": [
    "**High resolution output**"
   ]
  },
  {
   "cell_type": "code",
   "execution_count": 3,
   "metadata": {
    "collapsed": false
   },
   "outputs": [
    {
     "name": "stdout",
     "output_type": "stream",
     "text": [
      "37856 points\n",
      "75716 faces\n",
      "227148 edges\n",
      "std  :  0.390862483568\n",
      "max  :  4.40281615753\n",
      "max_points  :  [[  0.408017   5.497801  19.554405]\n",
      " [  0.         5.5       15.170536]]\n",
      "avg  :  0.567760508266\n"
     ]
    },
    {
     "data": {
      "image/png": "[encoded data removed]",
      "text/plain": [
       "<matplotlib.figure.Figure at 0x663c278>"
      ]
     },
     "metadata": {},
     "output_type": "display_data"
    },
    {
     "data": {
      "image/png": "[encoded data removed]",
      "text/plain": [
       "<matplotlib.figure.Figure at 0x46e7a20>"
      ]
     },
     "metadata": {},
     "output_type": "display_data"
    }
   ],
   "source": [
    "points, faces = read_obj('../output/obj/hires.obj')\n",
    "stl_stats = edge_statistics(points, faces)\n",
    "for k in stl_stats:\n",
    "    if k != 'hist':\n",
    "        print k, ' : ', stl_stats[k]\n",
    "plt.bar(stl_stats['hist'][0][0:-1], stl_stats['hist'][1], width=0.4)\n",
    "plt.title('Edge counts')\n",
    "plt.show()\n",
    "plt.bar(stl_stats['hist'][0][0:-1], stl_stats['hist'][1], log=True, width=0.4)\n",
    "plt.title('Edge counts (log scale)')\n",
    "plt.show()"
   ]
  },
  {
   "cell_type": "markdown",
   "metadata": {},
   "source": [
    "**Medium resolution output**"
   ]
  },
  {
   "cell_type": "code",
   "execution_count": 4,
   "metadata": {
    "collapsed": false
   },
   "outputs": [
    {
     "name": "stdout",
     "output_type": "stream",
     "text": [
      "12921 points\n",
      "25846 faces\n",
      "77538 edges\n",
      "std  :  0.697003588229\n",
      "max  :  4.59447570512\n",
      "max_points  :  [[ 60.555061  17.359142  12.507833]\n",
      " [ 57.198833  14.243267  12.876972]]\n",
      "avg  :  0.949561699489\n"
     ]
    },
    {
     "data": {
      "image/png": "[encoded data removed]",
      "text/plain": [
       "<matplotlib.figure.Figure at 0x91a6240>"
      ]
     },
     "metadata": {},
     "output_type": "display_data"
    },
    {
     "data": {
      "image/png": "[encoded data removed]",
      "text/plain": [
       "<matplotlib.figure.Figure at 0x7f4aef0>"
      ]
     },
     "metadata": {},
     "output_type": "display_data"
    }
   ],
   "source": [
    "points, faces = read_obj('../output/obj/medres.obj')\n",
    "stl_stats = edge_statistics(points, faces)\n",
    "for k in stl_stats:\n",
    "    if k != 'hist':\n",
    "        print k, ' : ', stl_stats[k]\n",
    "plt.bar(stl_stats['hist'][0][0:-1], stl_stats['hist'][1], width=0.4)\n",
    "plt.title('Edge counts')\n",
    "plt.show()\n",
    "plt.bar(stl_stats['hist'][0][0:-1], stl_stats['hist'][1], log=True, width=0.4)\n",
    "plt.title('Edge counts (log scale)')\n",
    "plt.show()"
   ]
  },
  {
   "cell_type": "code",
   "execution_count": null,
   "metadata": {
    "collapsed": true
   },
   "outputs": [],
   "source": []
  }
 ],
 "metadata": {
  "kernelspec": {
   "display_name": "Python 2",
   "language": "python",
   "name": "python2"
  },
  "language_info": {
   "codemirror_mode": {
    "name": "ipython",
    "version": 2
   },
   "file_extension": ".py",
   "mimetype": "text/x-python",
   "name": "python",
   "nbconvert_exporter": "python",
   "pygments_lexer": "ipython2",
   "version": "2.7.13"
  }
 },
 "nbformat": 4,
 "nbformat_minor": 2
}
