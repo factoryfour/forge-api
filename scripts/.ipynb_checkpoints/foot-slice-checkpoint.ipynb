{
 "cells": [
  {
   "cell_type": "markdown",
   "metadata": {},
   "source": [
    "**Class definition**"
   ]
  },
  {
   "cell_type": "code",
   "execution_count": 55,
   "metadata": {
    "collapsed": false
   },
   "outputs": [],
   "source": [
    "import numpy as np\n",
    "import matplotlib.pyplot as plt\n",
    "from mpl_toolkits.mplot3d import Axes3D\n",
    "from math import sqrt\n",
    "\n",
    "class PlaneCalculatorY(object):\n",
    "    def __init__(self, filename, level, threshold=0.7, tail=40):\n",
    "        self.filename = filename\n",
    "        self.level = level\n",
    "\n",
    "        self.threshold = threshold\n",
    "        self.tail = tail\n",
    "        \n",
    "        # Read in the OBJ file\n",
    "        self.read_obj()\n",
    "    \n",
    "    def __closest_point(self, arr, val):\n",
    "        '''\n",
    "        Return the index of a value in a list that is closest to val\n",
    "        '''\n",
    "        return min(range(len(arr)), key=lambda i: abs(arr[i]-val))\n",
    "\n",
    "    def __dist(self, a, b):\n",
    "        '''\n",
    "        Get the distance between 2 points, a and b\n",
    "        '''\n",
    "        return sqrt((b[0]-a[0])**2 + (b[1]-a[1])**2 + (b[2]-a[2])**2)\n",
    "    \n",
    "    def read_obj(self):\n",
    "        # 2D array of points, index = point_number-1\n",
    "        self.points = []\n",
    "        # Dictionary of point number: list of neighbor numbers\n",
    "        self.faces = {}\n",
    "        fhandle = open(self.filename, 'r')\n",
    "        for line in fhandle:\n",
    "            line = line.strip().split()\n",
    "            if line[0] == 'v':\n",
    "                self.points.append([float(line[1]), float(line[2]), float(line[3])])\n",
    "            elif line[0] == 'f':\n",
    "                verts = [int(line[i]) for i in range(1,4)]\n",
    "                for v in verts:\n",
    "                    # Initialize an empty list if this is the first time looking at that point\n",
    "                    if v not in self.faces.keys():\n",
    "                        self.faces[v] = []\n",
    "                    # Add the other points to the list of adjacent points\n",
    "                    for ov in verts:\n",
    "                        if ov != v:\n",
    "                            self.faces[v].append(ov)\n",
    "                    self.faces[v] = list(set(self.faces[v]))\n",
    "        fhandle.close()\n",
    "        self.points = np.asarray(self.points)\n",
    "    \n",
    "    def calc_contour(self):\n",
    "        points = self.points\n",
    "        faces = self.faces\n",
    "        # Point numbers on contour\n",
    "        contour = []\n",
    "        # Points on contour\n",
    "        contour_points = []\n",
    "        # Neighbor points\n",
    "        visited = []\n",
    "\n",
    "        # Flag to keep going\n",
    "        run = True\n",
    "\n",
    "        # Get all the y values\n",
    "        ypts = points[:,1]\n",
    "        # Get the point number (index+1) that is closest to the plane\n",
    "        apt = self.__closest_point(ypts, self.level)+1\n",
    "        contour.append(apt)\n",
    "        contour_points.append(points[apt-1])\n",
    "\n",
    "        while run:\n",
    "            # Get the point numbers (index+1) of all neighbors\n",
    "            neighbors = [p for p in faces[apt] if p not in contour and p not in visited]\n",
    "            visited += neighbors\n",
    "            if len(neighbors) == 0:\n",
    "                neighbors = [p for p in faces[apt] if p not in contour]\n",
    "\n",
    "            # Get the y values of all neighbors. Look up indexed by point_number-1\n",
    "            temp = np.asarray([points[n-1] for n in neighbors])\n",
    "            neighbor_y = temp[:,1]\n",
    "\n",
    "            # Get the index from the list of neighbors of closest point to plane\n",
    "            closest = self.__closest_point(neighbor_y, self.level)\n",
    "            # Pick point number based on index in neighbor list\n",
    "            apt = neighbors[closest]\n",
    "            apt_point = points[apt-1]\n",
    "            # Add the point to the contour, indexed as apt-1\n",
    "            contour.append(apt)\n",
    "            contour_points.append(apt_point)\n",
    "\n",
    "            # Calculate if stopping condition was met\n",
    "            if len(contour) > self.tail*2:\n",
    "                tail_pts = contour_points[0:-self.tail]\n",
    "                dists = [self.__dist(tp, apt_point) for tp in tail_pts]\n",
    "                bit = [d < self.threshold for d in dists]\n",
    "                if any(bit):\n",
    "                    run = False\n",
    "\n",
    "        # Convert to numpy array\n",
    "        self.contour_points = np.asarray(contour_points)\n",
    "    \n",
    "    def plot(self):\n",
    "        fig = plt.figure()\n",
    "        ax = fig.add_subplot(111, projection='3d')\n",
    "        ax.scatter(self.points[:,0], self.points[:,1], self.points[:,2], 'b', alpha=0.1)\n",
    "        ax.plot(self.contour_points[:,0], self.contour_points[:,1], self.contour_points[:,2], 'r')\n",
    "        ax.set_xlabel('X')\n",
    "        ax.set_ylabel('Y')\n",
    "        ax.set_zlabel('Z')\n",
    "        plt.show()\n",
    "    \n",
    "    def write_to_obj(self, filename):\n",
    "        fhandle = open(filename, 'w')\n",
    "        for p in self.contour_points:\n",
    "            fhandle.write('v ' + str(p[0]) + ' ' + str(p[1]) + ' ' + str(p[2]) + '\\n')\n",
    "        for i in range(1,len(self.contour_points)):\n",
    "            fhandle.write('f ' + str(i) + ' ' + str(i+1) + ' ' + str(i) + '\\n')\n",
    "        fhandle.write('f ' + str(len(self.contour_points)) + ' ' + str(1) + ' ' + str(len(self.contour_points)) + '\\n')\n",
    "        fhandle.close()"
   ]
  },
  {
   "cell_type": "code",
   "execution_count": 56,
   "metadata": {
    "collapsed": true
   },
   "outputs": [],
   "source": [
    "meshfile = '../demos/output/footMeasurementsMesh.obj'"
   ]
  },
  {
   "cell_type": "code",
   "execution_count": 60,
   "metadata": {
    "collapsed": false
   },
   "outputs": [],
   "source": [
    "y = 1.3\n",
    "calculator = PlaneCalculatorY(meshfile, y, threshold=0.5, tail=40)\n",
    "calculator.calc_contour()"
   ]
  },
  {
   "cell_type": "code",
   "execution_count": 62,
   "metadata": {
    "collapsed": false
   },
   "outputs": [],
   "source": [
    "calculator.write_to_obj('contour_'+str(y)+'.obj')"
   ]
  },
  {
   "cell_type": "code",
   "execution_count": 59,
   "metadata": {
    "collapsed": true
   },
   "outputs": [],
   "source": [
    "calculator.plot()"
   ]
  },
  {
   "cell_type": "code",
   "execution_count": 45,
   "metadata": {
    "collapsed": false
   },
   "outputs": [
    {
     "data": {
      "text/plain": [
       "217"
      ]
     },
     "execution_count": 45,
     "metadata": {},
     "output_type": "execute_result"
    }
   ],
   "source": [
    "len(calculator.contour_points)"
   ]
  }
 ],
 "metadata": {
  "kernelspec": {
   "display_name": "Python 2",
   "language": "python",
   "name": "python2"
  },
  "language_info": {
   "codemirror_mode": {
    "name": "ipython",
    "version": 2
   },
   "file_extension": ".py",
   "mimetype": "text/x-python",
   "name": "python",
   "nbconvert_exporter": "python",
   "pygments_lexer": "ipython2",
   "version": "2.7.13"
  }
 },
 "nbformat": 4,
 "nbformat_minor": 0
}
